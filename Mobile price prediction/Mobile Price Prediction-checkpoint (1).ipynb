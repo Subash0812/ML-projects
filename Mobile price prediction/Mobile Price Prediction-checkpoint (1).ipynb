{
 "cells": [
  {
   "cell_type": "markdown",
   "id": "18514400",
   "metadata": {},
   "source": [
    "# Mobile Phone Price Prediction"
   ]
  },
  {
   "cell_type": "markdown",
   "id": "7d1d1365",
   "metadata": {},
   "source": [
    "About Data Set :\n",
    "    This dataset contains information on the prices of several mobile phones from different brands. It includes details such as the storage capacity, RAM, screen size, camera specifications, battery capacity, and price of each device.\n",
    "\n",
    "Columns\n",
    "\n",
    "• Brand                 : manufacturer of the phone\n",
    "\n",
    "• Model                 : name of the phone model\n",
    "\n",
    "• Storage (GB)          : amount of storage space (in gigabytes) available on the phone\n",
    "\n",
    "• RAM (GB)              : amount of RAM (in gigabytes) available on the phone\n",
    "\n",
    "• Screen Size (inches)  : size of the phone's display screen in inches\n",
    "\n",
    "• Camera (MP)           : megapixel count of the phone's rear camera(s)\n",
    "\n",
    "• Battery Capacity (mAh): capacity of the phone's battery in milliampere hours\n",
    "\n",
    "• Price ($)             : retail price of the phone in US dollars"
   ]
  },
  {
   "cell_type": "markdown",
   "id": "86408ff6",
   "metadata": {},
   "source": [
    "ML Algorithms using in this prediction : \n",
    "\n",
    "1)Linear Regression\n",
    "2)Decision Tree Regressor\n",
    "3)Random Forest Regressor"
   ]
  },
  {
   "cell_type": "code",
   "execution_count": 1,
   "id": "a56afd5f",
   "metadata": {},
   "outputs": [
    {
     "data": {
      "text/html": [
       "<div>\n",
       "<style scoped>\n",
       "    .dataframe tbody tr th:only-of-type {\n",
       "        vertical-align: middle;\n",
       "    }\n",
       "\n",
       "    .dataframe tbody tr th {\n",
       "        vertical-align: top;\n",
       "    }\n",
       "\n",
       "    .dataframe thead th {\n",
       "        text-align: right;\n",
       "    }\n",
       "</style>\n",
       "<table border=\"1\" class=\"dataframe\">\n",
       "  <thead>\n",
       "    <tr style=\"text-align: right;\">\n",
       "      <th></th>\n",
       "      <th>Brand</th>\n",
       "      <th>Model</th>\n",
       "      <th>Storage</th>\n",
       "      <th>RAM</th>\n",
       "      <th>Screen Size (inches)</th>\n",
       "      <th>Camera (MP)</th>\n",
       "      <th>Battery Capacity (mAh)</th>\n",
       "      <th>Price ($)</th>\n",
       "    </tr>\n",
       "  </thead>\n",
       "  <tbody>\n",
       "    <tr>\n",
       "      <th>0</th>\n",
       "      <td>Apple</td>\n",
       "      <td>iPhone 13 Pro</td>\n",
       "      <td>128 GB</td>\n",
       "      <td>6 GB</td>\n",
       "      <td>6.1</td>\n",
       "      <td>12 + 12 + 12</td>\n",
       "      <td>3095</td>\n",
       "      <td>999</td>\n",
       "    </tr>\n",
       "    <tr>\n",
       "      <th>1</th>\n",
       "      <td>Samsung</td>\n",
       "      <td>Galaxy S21 Ultra</td>\n",
       "      <td>256 GB</td>\n",
       "      <td>12 GB</td>\n",
       "      <td>6.8</td>\n",
       "      <td>108 + 10 + 10 + 12</td>\n",
       "      <td>5000</td>\n",
       "      <td>1199</td>\n",
       "    </tr>\n",
       "    <tr>\n",
       "      <th>2</th>\n",
       "      <td>OnePlus</td>\n",
       "      <td>9 Pro</td>\n",
       "      <td>128 GB</td>\n",
       "      <td>8 GB</td>\n",
       "      <td>6.7</td>\n",
       "      <td>48 + 50 + 8 + 2</td>\n",
       "      <td>4500</td>\n",
       "      <td>899</td>\n",
       "    </tr>\n",
       "    <tr>\n",
       "      <th>3</th>\n",
       "      <td>Xiaomi</td>\n",
       "      <td>Redmi Note 10 Pro</td>\n",
       "      <td>128 GB</td>\n",
       "      <td>6 GB</td>\n",
       "      <td>6.67</td>\n",
       "      <td>64 + 8 + 5 + 2</td>\n",
       "      <td>5020</td>\n",
       "      <td>279</td>\n",
       "    </tr>\n",
       "    <tr>\n",
       "      <th>4</th>\n",
       "      <td>Google</td>\n",
       "      <td>Pixel 6</td>\n",
       "      <td>128 GB</td>\n",
       "      <td>8 GB</td>\n",
       "      <td>6.4</td>\n",
       "      <td>50 + 12.2</td>\n",
       "      <td>4614</td>\n",
       "      <td>799</td>\n",
       "    </tr>\n",
       "    <tr>\n",
       "      <th>...</th>\n",
       "      <td>...</td>\n",
       "      <td>...</td>\n",
       "      <td>...</td>\n",
       "      <td>...</td>\n",
       "      <td>...</td>\n",
       "      <td>...</td>\n",
       "      <td>...</td>\n",
       "      <td>...</td>\n",
       "    </tr>\n",
       "    <tr>\n",
       "      <th>402</th>\n",
       "      <td>Samsung</td>\n",
       "      <td>Galaxy Note20 5G</td>\n",
       "      <td>128</td>\n",
       "      <td>8</td>\n",
       "      <td>6.7</td>\n",
       "      <td>12+64+12</td>\n",
       "      <td>4300</td>\n",
       "      <td>1049</td>\n",
       "    </tr>\n",
       "    <tr>\n",
       "      <th>403</th>\n",
       "      <td>Xiaomi</td>\n",
       "      <td>Mi 10 Lite 5G</td>\n",
       "      <td>128</td>\n",
       "      <td>6</td>\n",
       "      <td>6.57</td>\n",
       "      <td>48+8+2+2</td>\n",
       "      <td>4160</td>\n",
       "      <td>349</td>\n",
       "    </tr>\n",
       "    <tr>\n",
       "      <th>404</th>\n",
       "      <td>Apple</td>\n",
       "      <td>iPhone 12 Pro Max</td>\n",
       "      <td>128</td>\n",
       "      <td>6</td>\n",
       "      <td>6.7</td>\n",
       "      <td>12+12+12</td>\n",
       "      <td>3687</td>\n",
       "      <td>1099</td>\n",
       "    </tr>\n",
       "    <tr>\n",
       "      <th>405</th>\n",
       "      <td>Oppo</td>\n",
       "      <td>Reno3</td>\n",
       "      <td>128</td>\n",
       "      <td>8</td>\n",
       "      <td>6.4</td>\n",
       "      <td>48+13+8+2</td>\n",
       "      <td>4025</td>\n",
       "      <td>429</td>\n",
       "    </tr>\n",
       "    <tr>\n",
       "      <th>406</th>\n",
       "      <td>Samsung</td>\n",
       "      <td>Galaxy S10 Lite</td>\n",
       "      <td>128</td>\n",
       "      <td>6</td>\n",
       "      <td>6.7</td>\n",
       "      <td>48+12+5</td>\n",
       "      <td>4500</td>\n",
       "      <td>649</td>\n",
       "    </tr>\n",
       "  </tbody>\n",
       "</table>\n",
       "<p>407 rows × 8 columns</p>\n",
       "</div>"
      ],
      "text/plain": [
       "       Brand              Model Storage    RAM  Screen Size (inches)  \\\n",
       "0      Apple      iPhone 13 Pro   128 GB   6 GB                  6.1   \n",
       "1    Samsung   Galaxy S21 Ultra   256 GB  12 GB                  6.8   \n",
       "2    OnePlus              9 Pro   128 GB   8 GB                  6.7   \n",
       "3     Xiaomi  Redmi Note 10 Pro   128 GB   6 GB                 6.67   \n",
       "4     Google            Pixel 6   128 GB   8 GB                  6.4   \n",
       "..       ...                ...      ...    ...                  ...   \n",
       "402  Samsung   Galaxy Note20 5G      128      8                  6.7   \n",
       "403   Xiaomi      Mi 10 Lite 5G      128      6                 6.57   \n",
       "404    Apple  iPhone 12 Pro Max      128      6                  6.7   \n",
       "405     Oppo              Reno3      128      8                  6.4   \n",
       "406  Samsung    Galaxy S10 Lite      128      6                  6.7   \n",
       "\n",
       "            Camera (MP)  Battery Capacity (mAh) Price ($)  \n",
       "0          12 + 12 + 12                    3095       999  \n",
       "1    108 + 10 + 10 + 12                    5000      1199  \n",
       "2       48 + 50 + 8 + 2                    4500       899  \n",
       "3        64 + 8 + 5 + 2                    5020       279  \n",
       "4             50 + 12.2                    4614       799  \n",
       "..                  ...                     ...       ...  \n",
       "402            12+64+12                    4300      1049  \n",
       "403            48+8+2+2                    4160       349  \n",
       "404            12+12+12                    3687      1099  \n",
       "405           48+13+8+2                    4025       429  \n",
       "406             48+12+5                    4500       649  \n",
       "\n",
       "[407 rows x 8 columns]"
      ]
     },
     "execution_count": 1,
     "metadata": {},
     "output_type": "execute_result"
    }
   ],
   "source": [
    "import pandas as pd \n",
    "data = pd.read_csv('D:\\IT\\Projects\\Mobile\\Mobile phone price.csv')\n",
    "data"
   ]
  },
  {
   "cell_type": "code",
   "execution_count": 2,
   "id": "c9d093a1",
   "metadata": {},
   "outputs": [
    {
     "name": "stdout",
     "output_type": "stream",
     "text": [
      "<class 'pandas.core.frame.DataFrame'>\n",
      "RangeIndex: 407 entries, 0 to 406\n",
      "Data columns (total 8 columns):\n",
      " #   Column                  Non-Null Count  Dtype \n",
      "---  ------                  --------------  ----- \n",
      " 0   Brand                   407 non-null    object\n",
      " 1   Model                   407 non-null    object\n",
      " 2   Storage                 407 non-null    object\n",
      " 3   RAM                     407 non-null    object\n",
      " 4   Screen Size (inches)    407 non-null    object\n",
      " 5   Camera (MP)             407 non-null    object\n",
      " 6   Battery Capacity (mAh)  407 non-null    int64 \n",
      " 7   Price ($)               407 non-null    object\n",
      "dtypes: int64(1), object(7)\n",
      "memory usage: 25.6+ KB\n"
     ]
    }
   ],
   "source": [
    "data.info()"
   ]
  },
  {
   "cell_type": "code",
   "execution_count": 3,
   "id": "4a168964",
   "metadata": {},
   "outputs": [
    {
     "data": {
      "text/html": [
       "<div>\n",
       "<style scoped>\n",
       "    .dataframe tbody tr th:only-of-type {\n",
       "        vertical-align: middle;\n",
       "    }\n",
       "\n",
       "    .dataframe tbody tr th {\n",
       "        vertical-align: top;\n",
       "    }\n",
       "\n",
       "    .dataframe thead th {\n",
       "        text-align: right;\n",
       "    }\n",
       "</style>\n",
       "<table border=\"1\" class=\"dataframe\">\n",
       "  <thead>\n",
       "    <tr style=\"text-align: right;\">\n",
       "      <th></th>\n",
       "      <th>Brand</th>\n",
       "      <th>Model</th>\n",
       "      <th>Storage_</th>\n",
       "      <th>RAM_</th>\n",
       "      <th>Screen_Size_(inches)</th>\n",
       "      <th>Camera_(MP)</th>\n",
       "      <th>Battery_Capacity_(mAh)</th>\n",
       "      <th>Price_($)</th>\n",
       "    </tr>\n",
       "  </thead>\n",
       "  <tbody>\n",
       "    <tr>\n",
       "      <th>0</th>\n",
       "      <td>Apple</td>\n",
       "      <td>iPhone 13 Pro</td>\n",
       "      <td>128 GB</td>\n",
       "      <td>6 GB</td>\n",
       "      <td>6.1</td>\n",
       "      <td>12 + 12 + 12</td>\n",
       "      <td>3095</td>\n",
       "      <td>999</td>\n",
       "    </tr>\n",
       "    <tr>\n",
       "      <th>1</th>\n",
       "      <td>Samsung</td>\n",
       "      <td>Galaxy S21 Ultra</td>\n",
       "      <td>256 GB</td>\n",
       "      <td>12 GB</td>\n",
       "      <td>6.8</td>\n",
       "      <td>108 + 10 + 10 + 12</td>\n",
       "      <td>5000</td>\n",
       "      <td>1199</td>\n",
       "    </tr>\n",
       "    <tr>\n",
       "      <th>2</th>\n",
       "      <td>OnePlus</td>\n",
       "      <td>9 Pro</td>\n",
       "      <td>128 GB</td>\n",
       "      <td>8 GB</td>\n",
       "      <td>6.7</td>\n",
       "      <td>48 + 50 + 8 + 2</td>\n",
       "      <td>4500</td>\n",
       "      <td>899</td>\n",
       "    </tr>\n",
       "    <tr>\n",
       "      <th>3</th>\n",
       "      <td>Xiaomi</td>\n",
       "      <td>Redmi Note 10 Pro</td>\n",
       "      <td>128 GB</td>\n",
       "      <td>6 GB</td>\n",
       "      <td>6.67</td>\n",
       "      <td>64 + 8 + 5 + 2</td>\n",
       "      <td>5020</td>\n",
       "      <td>279</td>\n",
       "    </tr>\n",
       "    <tr>\n",
       "      <th>4</th>\n",
       "      <td>Google</td>\n",
       "      <td>Pixel 6</td>\n",
       "      <td>128 GB</td>\n",
       "      <td>8 GB</td>\n",
       "      <td>6.4</td>\n",
       "      <td>50 + 12.2</td>\n",
       "      <td>4614</td>\n",
       "      <td>799</td>\n",
       "    </tr>\n",
       "    <tr>\n",
       "      <th>...</th>\n",
       "      <td>...</td>\n",
       "      <td>...</td>\n",
       "      <td>...</td>\n",
       "      <td>...</td>\n",
       "      <td>...</td>\n",
       "      <td>...</td>\n",
       "      <td>...</td>\n",
       "      <td>...</td>\n",
       "    </tr>\n",
       "    <tr>\n",
       "      <th>402</th>\n",
       "      <td>Samsung</td>\n",
       "      <td>Galaxy Note20 5G</td>\n",
       "      <td>128</td>\n",
       "      <td>8</td>\n",
       "      <td>6.7</td>\n",
       "      <td>12+64+12</td>\n",
       "      <td>4300</td>\n",
       "      <td>1049</td>\n",
       "    </tr>\n",
       "    <tr>\n",
       "      <th>403</th>\n",
       "      <td>Xiaomi</td>\n",
       "      <td>Mi 10 Lite 5G</td>\n",
       "      <td>128</td>\n",
       "      <td>6</td>\n",
       "      <td>6.57</td>\n",
       "      <td>48+8+2+2</td>\n",
       "      <td>4160</td>\n",
       "      <td>349</td>\n",
       "    </tr>\n",
       "    <tr>\n",
       "      <th>404</th>\n",
       "      <td>Apple</td>\n",
       "      <td>iPhone 12 Pro Max</td>\n",
       "      <td>128</td>\n",
       "      <td>6</td>\n",
       "      <td>6.7</td>\n",
       "      <td>12+12+12</td>\n",
       "      <td>3687</td>\n",
       "      <td>1099</td>\n",
       "    </tr>\n",
       "    <tr>\n",
       "      <th>405</th>\n",
       "      <td>Oppo</td>\n",
       "      <td>Reno3</td>\n",
       "      <td>128</td>\n",
       "      <td>8</td>\n",
       "      <td>6.4</td>\n",
       "      <td>48+13+8+2</td>\n",
       "      <td>4025</td>\n",
       "      <td>429</td>\n",
       "    </tr>\n",
       "    <tr>\n",
       "      <th>406</th>\n",
       "      <td>Samsung</td>\n",
       "      <td>Galaxy S10 Lite</td>\n",
       "      <td>128</td>\n",
       "      <td>6</td>\n",
       "      <td>6.7</td>\n",
       "      <td>48+12+5</td>\n",
       "      <td>4500</td>\n",
       "      <td>649</td>\n",
       "    </tr>\n",
       "  </tbody>\n",
       "</table>\n",
       "<p>407 rows × 8 columns</p>\n",
       "</div>"
      ],
      "text/plain": [
       "       Brand              Model Storage_   RAM_ Screen_Size_(inches)  \\\n",
       "0      Apple      iPhone 13 Pro   128 GB   6 GB                  6.1   \n",
       "1    Samsung   Galaxy S21 Ultra   256 GB  12 GB                  6.8   \n",
       "2    OnePlus              9 Pro   128 GB   8 GB                  6.7   \n",
       "3     Xiaomi  Redmi Note 10 Pro   128 GB   6 GB                 6.67   \n",
       "4     Google            Pixel 6   128 GB   8 GB                  6.4   \n",
       "..       ...                ...      ...    ...                  ...   \n",
       "402  Samsung   Galaxy Note20 5G      128      8                  6.7   \n",
       "403   Xiaomi      Mi 10 Lite 5G      128      6                 6.57   \n",
       "404    Apple  iPhone 12 Pro Max      128      6                  6.7   \n",
       "405     Oppo              Reno3      128      8                  6.4   \n",
       "406  Samsung    Galaxy S10 Lite      128      6                  6.7   \n",
       "\n",
       "            Camera_(MP)  Battery_Capacity_(mAh) Price_($)  \n",
       "0          12 + 12 + 12                    3095       999  \n",
       "1    108 + 10 + 10 + 12                    5000      1199  \n",
       "2       48 + 50 + 8 + 2                    4500       899  \n",
       "3        64 + 8 + 5 + 2                    5020       279  \n",
       "4             50 + 12.2                    4614       799  \n",
       "..                  ...                     ...       ...  \n",
       "402            12+64+12                    4300      1049  \n",
       "403            48+8+2+2                    4160       349  \n",
       "404            12+12+12                    3687      1099  \n",
       "405           48+13+8+2                    4025       429  \n",
       "406             48+12+5                    4500       649  \n",
       "\n",
       "[407 rows x 8 columns]"
      ]
     },
     "execution_count": 3,
     "metadata": {},
     "output_type": "execute_result"
    }
   ],
   "source": [
    "data.columns = data.columns.str.replace(' ','_')\n",
    "data"
   ]
  },
  {
   "cell_type": "code",
   "execution_count": 4,
   "id": "cee7ba07",
   "metadata": {},
   "outputs": [
    {
     "data": {
      "text/html": [
       "<div>\n",
       "<style scoped>\n",
       "    .dataframe tbody tr th:only-of-type {\n",
       "        vertical-align: middle;\n",
       "    }\n",
       "\n",
       "    .dataframe tbody tr th {\n",
       "        vertical-align: top;\n",
       "    }\n",
       "\n",
       "    .dataframe thead th {\n",
       "        text-align: right;\n",
       "    }\n",
       "</style>\n",
       "<table border=\"1\" class=\"dataframe\">\n",
       "  <thead>\n",
       "    <tr style=\"text-align: right;\">\n",
       "      <th></th>\n",
       "      <th>Brand</th>\n",
       "      <th>Model</th>\n",
       "      <th>Storage_</th>\n",
       "      <th>RAM_</th>\n",
       "      <th>Screen_Size_(inches)</th>\n",
       "      <th>Camera_(MP)</th>\n",
       "      <th>Battery_Capacity_(mAh)</th>\n",
       "      <th>Price_($)</th>\n",
       "    </tr>\n",
       "  </thead>\n",
       "  <tbody>\n",
       "    <tr>\n",
       "      <th>0</th>\n",
       "      <td>Apple</td>\n",
       "      <td>iPhone 13 Pro</td>\n",
       "      <td>128</td>\n",
       "      <td>6</td>\n",
       "      <td>6.1</td>\n",
       "      <td>12 + 12 + 12</td>\n",
       "      <td>3095</td>\n",
       "      <td>999</td>\n",
       "    </tr>\n",
       "    <tr>\n",
       "      <th>1</th>\n",
       "      <td>Samsung</td>\n",
       "      <td>Galaxy S21 Ultra</td>\n",
       "      <td>256</td>\n",
       "      <td>12</td>\n",
       "      <td>6.8</td>\n",
       "      <td>108 + 10 + 10 + 12</td>\n",
       "      <td>5000</td>\n",
       "      <td>1199</td>\n",
       "    </tr>\n",
       "    <tr>\n",
       "      <th>2</th>\n",
       "      <td>OnePlus</td>\n",
       "      <td>9 Pro</td>\n",
       "      <td>128</td>\n",
       "      <td>8</td>\n",
       "      <td>6.7</td>\n",
       "      <td>48 + 50 + 8 + 2</td>\n",
       "      <td>4500</td>\n",
       "      <td>899</td>\n",
       "    </tr>\n",
       "    <tr>\n",
       "      <th>3</th>\n",
       "      <td>Xiaomi</td>\n",
       "      <td>Redmi Note 10 Pro</td>\n",
       "      <td>128</td>\n",
       "      <td>6</td>\n",
       "      <td>6.67</td>\n",
       "      <td>64 + 8 + 5 + 2</td>\n",
       "      <td>5020</td>\n",
       "      <td>279</td>\n",
       "    </tr>\n",
       "    <tr>\n",
       "      <th>4</th>\n",
       "      <td>Google</td>\n",
       "      <td>Pixel 6</td>\n",
       "      <td>128</td>\n",
       "      <td>8</td>\n",
       "      <td>6.4</td>\n",
       "      <td>50 + 12.2</td>\n",
       "      <td>4614</td>\n",
       "      <td>799</td>\n",
       "    </tr>\n",
       "    <tr>\n",
       "      <th>...</th>\n",
       "      <td>...</td>\n",
       "      <td>...</td>\n",
       "      <td>...</td>\n",
       "      <td>...</td>\n",
       "      <td>...</td>\n",
       "      <td>...</td>\n",
       "      <td>...</td>\n",
       "      <td>...</td>\n",
       "    </tr>\n",
       "    <tr>\n",
       "      <th>402</th>\n",
       "      <td>Samsung</td>\n",
       "      <td>Galaxy Note20 5G</td>\n",
       "      <td>128</td>\n",
       "      <td>8</td>\n",
       "      <td>6.7</td>\n",
       "      <td>12+64+12</td>\n",
       "      <td>4300</td>\n",
       "      <td>1049</td>\n",
       "    </tr>\n",
       "    <tr>\n",
       "      <th>403</th>\n",
       "      <td>Xiaomi</td>\n",
       "      <td>Mi 10 Lite 5G</td>\n",
       "      <td>128</td>\n",
       "      <td>6</td>\n",
       "      <td>6.57</td>\n",
       "      <td>48+8+2+2</td>\n",
       "      <td>4160</td>\n",
       "      <td>349</td>\n",
       "    </tr>\n",
       "    <tr>\n",
       "      <th>404</th>\n",
       "      <td>Apple</td>\n",
       "      <td>iPhone 12 Pro Max</td>\n",
       "      <td>128</td>\n",
       "      <td>6</td>\n",
       "      <td>6.7</td>\n",
       "      <td>12+12+12</td>\n",
       "      <td>3687</td>\n",
       "      <td>1099</td>\n",
       "    </tr>\n",
       "    <tr>\n",
       "      <th>405</th>\n",
       "      <td>Oppo</td>\n",
       "      <td>Reno3</td>\n",
       "      <td>128</td>\n",
       "      <td>8</td>\n",
       "      <td>6.4</td>\n",
       "      <td>48+13+8+2</td>\n",
       "      <td>4025</td>\n",
       "      <td>429</td>\n",
       "    </tr>\n",
       "    <tr>\n",
       "      <th>406</th>\n",
       "      <td>Samsung</td>\n",
       "      <td>Galaxy S10 Lite</td>\n",
       "      <td>128</td>\n",
       "      <td>6</td>\n",
       "      <td>6.7</td>\n",
       "      <td>48+12+5</td>\n",
       "      <td>4500</td>\n",
       "      <td>649</td>\n",
       "    </tr>\n",
       "  </tbody>\n",
       "</table>\n",
       "<p>407 rows × 8 columns</p>\n",
       "</div>"
      ],
      "text/plain": [
       "       Brand              Model  Storage_  RAM_ Screen_Size_(inches)  \\\n",
       "0      Apple      iPhone 13 Pro       128     6                  6.1   \n",
       "1    Samsung   Galaxy S21 Ultra       256    12                  6.8   \n",
       "2    OnePlus              9 Pro       128     8                  6.7   \n",
       "3     Xiaomi  Redmi Note 10 Pro       128     6                 6.67   \n",
       "4     Google            Pixel 6       128     8                  6.4   \n",
       "..       ...                ...       ...   ...                  ...   \n",
       "402  Samsung   Galaxy Note20 5G       128     8                  6.7   \n",
       "403   Xiaomi      Mi 10 Lite 5G       128     6                 6.57   \n",
       "404    Apple  iPhone 12 Pro Max       128     6                  6.7   \n",
       "405     Oppo              Reno3       128     8                  6.4   \n",
       "406  Samsung    Galaxy S10 Lite       128     6                  6.7   \n",
       "\n",
       "            Camera_(MP)  Battery_Capacity_(mAh) Price_($)  \n",
       "0          12 + 12 + 12                    3095       999  \n",
       "1    108 + 10 + 10 + 12                    5000      1199  \n",
       "2       48 + 50 + 8 + 2                    4500       899  \n",
       "3        64 + 8 + 5 + 2                    5020       279  \n",
       "4             50 + 12.2                    4614       799  \n",
       "..                  ...                     ...       ...  \n",
       "402            12+64+12                    4300      1049  \n",
       "403            48+8+2+2                    4160       349  \n",
       "404            12+12+12                    3687      1099  \n",
       "405           48+13+8+2                    4025       429  \n",
       "406             48+12+5                    4500       649  \n",
       "\n",
       "[407 rows x 8 columns]"
      ]
     },
     "execution_count": 4,
     "metadata": {},
     "output_type": "execute_result"
    }
   ],
   "source": [
    "data['Storage_'] = data['Storage_'].str.replace('GB','').astype('int32')\n",
    "data['RAM_'] = data['RAM_'].str.replace('GB','').astype('int32')\n",
    "data"
   ]
  },
  {
   "cell_type": "code",
   "execution_count": 5,
   "id": "83a6cd03",
   "metadata": {},
   "outputs": [
    {
     "data": {
      "text/plain": [
       "Samsung       79\n",
       "Xiaomi        67\n",
       "Oppo          56\n",
       "Realme        43\n",
       "Vivo          35\n",
       "Apple         30\n",
       "Nokia         28\n",
       "Motorola      23\n",
       "OnePlus       15\n",
       "Huawei        12\n",
       "Google         7\n",
       "Asus           4\n",
       "LG             3\n",
       "Blackberry     3\n",
       "Sony           1\n",
       "CAT            1\n",
       "Name: Brand, dtype: int64"
      ]
     },
     "execution_count": 5,
     "metadata": {},
     "output_type": "execute_result"
    }
   ],
   "source": [
    "data.Brand.value_counts()"
   ]
  },
  {
   "cell_type": "code",
   "execution_count": 6,
   "id": "100827bf",
   "metadata": {},
   "outputs": [],
   "source": [
    "def con (inpt):\n",
    "    if inpt=='Google' or inpt=='Asus' or inpt=='LG' or inpt=='Blackberry' or inpt=='Sony' or inpt=='CAT':\n",
    "        return 'Others'\n",
    "    else:\n",
    "        return inpt\n",
    "data['Brand'] = data['Brand'].apply(con)        "
   ]
  },
  {
   "cell_type": "code",
   "execution_count": 7,
   "id": "3cd7c6be",
   "metadata": {},
   "outputs": [
    {
     "data": {
      "text/plain": [
       "Samsung     79\n",
       "Xiaomi      67\n",
       "Oppo        56\n",
       "Realme      43\n",
       "Vivo        35\n",
       "Apple       30\n",
       "Nokia       28\n",
       "Motorola    23\n",
       "Others      19\n",
       "OnePlus     15\n",
       "Huawei      12\n",
       "Name: Brand, dtype: int64"
      ]
     },
     "execution_count": 7,
     "metadata": {},
     "output_type": "execute_result"
    }
   ],
   "source": [
    "data.Brand.value_counts()"
   ]
  },
  {
   "cell_type": "code",
   "execution_count": 8,
   "id": "fde36633",
   "metadata": {},
   "outputs": [
    {
     "data": {
      "text/plain": [
       "array(['6.1', '6.8', '6.7', '6.67', '6.4', '6.55', '6.78', '6.43', '6.5',\n",
       "       '6.62', '5.4', '6.2', '6.51', '6.6', '4.7', '6.58', '6.52', '6.44',\n",
       "       '6.53', '6.56', '6.8 + 3.9', '4.5', '6.39', '5.9', '5.5', '6.81',\n",
       "       '5.99', '6.82', '6.3', '6.22', '6', '6.35', '6.9', '6.76', '6.49',\n",
       "       '6.72', '5.7', '6.47', '7.6 (unfolded)', '6.15', '6.57'],\n",
       "      dtype=object)"
      ]
     },
     "execution_count": 8,
     "metadata": {},
     "output_type": "execute_result"
    }
   ],
   "source": [
    "data['Screen_Size_(inches)'].unique()"
   ]
  },
  {
   "cell_type": "code",
   "execution_count": 9,
   "id": "9499d754",
   "metadata": {},
   "outputs": [],
   "source": [
    "data = data[~(data['Screen_Size_(inches)']=='7.6 (unfolded)')]\n",
    "data = data[~(data['Screen_Size_(inches)']=='6.8 + 3.9')]\n",
    "data['Screen_Size_(inches)'] = data['Screen_Size_(inches)'].astype('float64')"
   ]
  },
  {
   "cell_type": "code",
   "execution_count": 10,
   "id": "a222ffcd",
   "metadata": {},
   "outputs": [
    {
     "data": {
      "text/plain": [
       "array(['999', '1199', '899', '279', '799', '249', '699', '329', '449',\n",
       "       '199', '299', '379', '179', '729', '599', '139', '189', '399',\n",
       "       '259', '159', '229', '499', '129', '529', '369', '1099', '169',\n",
       "       '99', '459', '239', '1299', '429', '659', '269', '359', '$799 ',\n",
       "       '$399 ', '$699 ', '$329 ', '$999 ', '$549 ', '$1,299 ', '$899 ',\n",
       "       '$449 ', '$319 ', '$269 ', '$349 ', '$279 ', '$249 ', '$299 ',\n",
       "       '$969 ', '$1,199 ', '$149 ', '$139 ', '$99 ', '$199 ', '$169 ',\n",
       "       '$499 ', '$179 ', '$219 ', '$229 ', '$239 ', '$109 ', '$189 ',\n",
       "       '$389 ', '$309 ', '$369 ', '$129 ', '$849 ', '$469 ', '$209 ',\n",
       "       '$119 ', '$339 ', '$429 ', '$159 ', '$379 ', '$289 ', '130', '749',\n",
       "       '149', '969', '649', '349', '419', '1399', '119', '319', '1049'],\n",
       "      dtype=object)"
      ]
     },
     "execution_count": 10,
     "metadata": {},
     "output_type": "execute_result"
    }
   ],
   "source": [
    "data['Price_($)'].unique()"
   ]
  },
  {
   "cell_type": "code",
   "execution_count": 11,
   "id": "652bb476",
   "metadata": {},
   "outputs": [
    {
     "name": "stderr",
     "output_type": "stream",
     "text": [
      "C:\\Users\\Subash\\AppData\\Local\\Temp\\ipykernel_1804\\3639804322.py:1: FutureWarning: The default value of regex will change from True to False in a future version. In addition, single character regular expressions will *not* be treated as literal strings when regex=True.\n",
      "  data['Price_($)'] = data['Price_($)'].str.replace('$','')\n"
     ]
    }
   ],
   "source": [
    "data['Price_($)'] = data['Price_($)'].str.replace('$','')\n",
    "data['Price_($)'] = data['Price_($)'].str.replace(',','')"
   ]
  },
  {
   "cell_type": "code",
   "execution_count": 12,
   "id": "d9caeb94",
   "metadata": {},
   "outputs": [],
   "source": [
    "data['Price_($)'] = data['Price_($)'].astype('float64')"
   ]
  },
  {
   "cell_type": "code",
   "execution_count": 13,
   "id": "9d36f15a",
   "metadata": {},
   "outputs": [
    {
     "name": "stdout",
     "output_type": "stream",
     "text": [
      "<class 'pandas.core.frame.DataFrame'>\n",
      "Int64Index: 405 entries, 0 to 406\n",
      "Data columns (total 8 columns):\n",
      " #   Column                  Non-Null Count  Dtype  \n",
      "---  ------                  --------------  -----  \n",
      " 0   Brand                   405 non-null    object \n",
      " 1   Model                   405 non-null    object \n",
      " 2   Storage_                405 non-null    int32  \n",
      " 3   RAM_                    405 non-null    int32  \n",
      " 4   Screen_Size_(inches)    405 non-null    float64\n",
      " 5   Camera_(MP)             405 non-null    object \n",
      " 6   Battery_Capacity_(mAh)  405 non-null    int64  \n",
      " 7   Price_($)               405 non-null    float64\n",
      "dtypes: float64(2), int32(2), int64(1), object(3)\n",
      "memory usage: 25.3+ KB\n"
     ]
    }
   ],
   "source": [
    "data.info()"
   ]
  },
  {
   "cell_type": "code",
   "execution_count": 14,
   "id": "3135a66a",
   "metadata": {},
   "outputs": [
    {
     "data": {
      "text/plain": [
       "array(['12 + 12 + 12', '108 + 10 + 10 + 12', '48 + 50 + 8 + 2',\n",
       "       '64 + 8 + 5 + 2', '50 + 12.2', '12 + 12', '48 + 8 + 2 + 2',\n",
       "       '50 + 13 + 16 + 2', '50 + 48 + 12 + 8', '64 + 8 + 2',\n",
       "       '64 + 12 + 5 + 5', '50 + 50 + 13 + 3', '64 + 8 + 5',\n",
       "       '64 + 12 + 12', '50 + 2 + 2', '48 + 2 + 2', '50 + 8 + 2 + 2',\n",
       "       '48 + 5', '48 + 50 + 2', '108 + 8 + 5 + 2', '13 + 2 + 2', '13 + 2',\n",
       "       '12', '48 + 5 + 2', '50 + 8 + 2', '64 + 8 + 2 + 2', '48 + 8 + 5',\n",
       "       '64 + 8', '48 + 5 + 2 + 2', '50 + 2', '64 + 12 + 8 + 5', '64 + 2',\n",
       "       '48 + 13 + 13', '12MP + 12MP', '64MP + 12MP + 12MP',\n",
       "       '50MP + 8MP + 2MP', '50MP + 12MP', '48MP + 8MP + 2MP + 2MP',\n",
       "       '64MP + 8MP + 2MP', '50MP + 48MP + 12MP + 8MP',\n",
       "       '50MP + 16MP + 13MP + 2MP', '108MP + 16MP + 8MP', '48MP + 13MP',\n",
       "       '12MP + 12MP + 12MP', '64MP + 12MP + 8MP', '13MP + 5MP',\n",
       "       '64MP + 12MP + 8MP + 5MP', '108MP + 8MP + 5MP + 2MP',\n",
       "       '48MP + 50MP + 2MP', '50MP + 2MP + 2MP', '108MP + 8MP + 2MP',\n",
       "       '48MP + 5MP + 2MP', '64MP + 5MP + 2MP + 2MP', '64MP + 12MP',\n",
       "       '48MP + 50MP + 8MP', '50MP + 48MP + 48MP', '13MP + 2MP + 2MP',\n",
       "       '13MP + 2MP', '8MP + 2MP', '12MP + 12MP + 8MP', '48MP + 2MP + 2MP',\n",
       "       '64MP + 13MP + 5MP', '48MP + 8MP + 5MP', '12MP + 13MP',\n",
       "       '50MP + 13MP + 16MP + 2MP', '50MP + 8MP + 2MP + 2MP', '50MP + 2MP',\n",
       "       '48MP + 5MP', '64MP + 8MP + 2MP + 2MP', '64MP + 8MP + 5MP',\n",
       "       '64MP + 8MP + 5MP + 5MP', '64MP + 12MP + 5MP + 5MP',\n",
       "       '48MP + 8MP + 2MP', '48MP + 2MP', '108MP + 12MP + 10MP + 10MP',\n",
       "       '64MP + 2MP', '64MP + 8MP', '64MP + 8MP + 5MP + 2MP', '50MP + 5MP',\n",
       "       '48MP + 8MP + 5MP + 5MP', '108MP + 8MP + 2MP + 2MP',\n",
       "       '48MP + 5MP + 2MP + 2MP', '13MP', '48MP + 8MP + 5MP + 2MP',\n",
       "       '13MP + 5MP + 2MP', '8MP', '13MP + 5MP + 2MP + 2MP',\n",
       "       '13MP + 8MP + 5MP + 2MP', '13MP + 8MP + 2MP + 2MP',\n",
       "       '12MP + 2MP + 2MP', '13MP + 8MP + 2MP', '25MP + 8MP + 5MP',\n",
       "       '108+12+12', '48+8+2+2', '12.2+16', '50+20+12+3D', '64+8+2+2',\n",
       "       '64+12+5+5', '64+12+2+2', '12+12+12', '108+13+5', '48+2+2',\n",
       "       '48+16+5+2', '13+8+5+2', '13+2+2', '48+5+2', '12+7',\n",
       "       '108+10+10+12', '108+8+5+2', '50+16+13+2', '50+12+40+3D',\n",
       "       '48+50+8+2', '48+8+2', '48+5+2+2', '12+12', '50+8+2+2',\n",
       "       '50+8+16+2', '48+12+5', '48+48+8+5', '48+8+5', '40+40+8+3D',\n",
       "       '48+12+13', '13+5+2', '48+8+5+2', '40+20+8+ToF', '12+12+8',\n",
       "       '48+16+8', '16+8+5', '16+8+8+2', '12+64+12', '64+8+5',\n",
       "       '50+40+12+3D', '108+48+12+3D', '48+50+2', '64+2+2', '48+13+12+2',\n",
       "       '13+2', '48+8+5+5', '64+12+12', '108+48+12+0.3', '48+16+2',\n",
       "       '48+13+8+2'], dtype=object)"
      ]
     },
     "execution_count": 14,
     "metadata": {},
     "output_type": "execute_result"
    }
   ],
   "source": [
    "data['Camera_(MP)'].unique()"
   ]
  },
  {
   "cell_type": "code",
   "execution_count": 15,
   "id": "683b1702",
   "metadata": {},
   "outputs": [],
   "source": [
    "data['Camera_(MP)'] = data['Camera_(MP)'].str.replace('MP','')\n",
    "data['Camera_(MP)'] = data['Camera_(MP)'].str.replace('D','')\n",
    "data['Camera_(MP)'] = data['Camera_(MP)'].str.replace(',','')"
   ]
  },
  {
   "cell_type": "code",
   "execution_count": 16,
   "id": "247022c2",
   "metadata": {},
   "outputs": [],
   "source": [
    "data['Camera_(MP)'] = data['Camera_(MP)'].str.split('+')"
   ]
  },
  {
   "cell_type": "code",
   "execution_count": 17,
   "id": "3c31d9aa",
   "metadata": {},
   "outputs": [],
   "source": [
    "camera = []\n",
    "for i in data.index:\n",
    "    camera.append(data['Camera_(MP)'][i][0])\n",
    "data['Camera_(MP)'] = camera "
   ]
  },
  {
   "cell_type": "code",
   "execution_count": 18,
   "id": "fba64d2c",
   "metadata": {},
   "outputs": [
    {
     "data": {
      "text/plain": [
       "0       12.0\n",
       "1      108.0\n",
       "2       48.0\n",
       "3       64.0\n",
       "4       50.0\n",
       "       ...  \n",
       "402     12.0\n",
       "403     48.0\n",
       "404     12.0\n",
       "405     48.0\n",
       "406     48.0\n",
       "Name: Camera_(MP), Length: 405, dtype: float64"
      ]
     },
     "execution_count": 18,
     "metadata": {},
     "output_type": "execute_result"
    }
   ],
   "source": [
    "data['Camera_(MP)'].astype('float64')"
   ]
  },
  {
   "cell_type": "code",
   "execution_count": 19,
   "id": "9e17a7e7",
   "metadata": {},
   "outputs": [],
   "source": [
    "dummy = pd.get_dummies(data.Brand)\n",
    "data = pd.concat([data,dummy],axis = 1)"
   ]
  },
  {
   "cell_type": "code",
   "execution_count": 20,
   "id": "95507de8",
   "metadata": {},
   "outputs": [],
   "source": [
    "data = data.drop(['Brand','Model'],axis =1)"
   ]
  },
  {
   "cell_type": "code",
   "execution_count": 21,
   "id": "ebb2452d",
   "metadata": {},
   "outputs": [
    {
     "name": "stdout",
     "output_type": "stream",
     "text": [
      "<class 'pandas.core.frame.DataFrame'>\n",
      "Int64Index: 405 entries, 0 to 406\n",
      "Data columns (total 17 columns):\n",
      " #   Column                  Non-Null Count  Dtype  \n",
      "---  ------                  --------------  -----  \n",
      " 0   Storage_                405 non-null    int32  \n",
      " 1   RAM_                    405 non-null    int32  \n",
      " 2   Screen_Size_(inches)    405 non-null    float64\n",
      " 3   Camera_(MP)             405 non-null    object \n",
      " 4   Battery_Capacity_(mAh)  405 non-null    int64  \n",
      " 5   Price_($)               405 non-null    float64\n",
      " 6   Apple                   405 non-null    uint8  \n",
      " 7   Huawei                  405 non-null    uint8  \n",
      " 8   Motorola                405 non-null    uint8  \n",
      " 9   Nokia                   405 non-null    uint8  \n",
      " 10  OnePlus                 405 non-null    uint8  \n",
      " 11  Oppo                    405 non-null    uint8  \n",
      " 12  Others                  405 non-null    uint8  \n",
      " 13  Realme                  405 non-null    uint8  \n",
      " 14  Samsung                 405 non-null    uint8  \n",
      " 15  Vivo                    405 non-null    uint8  \n",
      " 16  Xiaomi                  405 non-null    uint8  \n",
      "dtypes: float64(2), int32(2), int64(1), object(1), uint8(11)\n",
      "memory usage: 39.5+ KB\n"
     ]
    }
   ],
   "source": [
    "data.info()"
   ]
  },
  {
   "cell_type": "code",
   "execution_count": 22,
   "id": "617c56e1",
   "metadata": {},
   "outputs": [
    {
     "data": {
      "text/html": [
       "<div>\n",
       "<style scoped>\n",
       "    .dataframe tbody tr th:only-of-type {\n",
       "        vertical-align: middle;\n",
       "    }\n",
       "\n",
       "    .dataframe tbody tr th {\n",
       "        vertical-align: top;\n",
       "    }\n",
       "\n",
       "    .dataframe thead th {\n",
       "        text-align: right;\n",
       "    }\n",
       "</style>\n",
       "<table border=\"1\" class=\"dataframe\">\n",
       "  <thead>\n",
       "    <tr style=\"text-align: right;\">\n",
       "      <th></th>\n",
       "      <th>Storage_</th>\n",
       "      <th>RAM_</th>\n",
       "      <th>Screen_Size_(inches)</th>\n",
       "      <th>Camera_(MP)</th>\n",
       "      <th>Battery_Capacity_(mAh)</th>\n",
       "      <th>Price_($)</th>\n",
       "      <th>Apple</th>\n",
       "      <th>Huawei</th>\n",
       "      <th>Motorola</th>\n",
       "      <th>Nokia</th>\n",
       "      <th>OnePlus</th>\n",
       "      <th>Oppo</th>\n",
       "      <th>Others</th>\n",
       "      <th>Realme</th>\n",
       "      <th>Samsung</th>\n",
       "      <th>Vivo</th>\n",
       "      <th>Xiaomi</th>\n",
       "    </tr>\n",
       "  </thead>\n",
       "  <tbody>\n",
       "    <tr>\n",
       "      <th>0</th>\n",
       "      <td>128</td>\n",
       "      <td>6</td>\n",
       "      <td>6.10</td>\n",
       "      <td>12</td>\n",
       "      <td>3095</td>\n",
       "      <td>999.0</td>\n",
       "      <td>1</td>\n",
       "      <td>0</td>\n",
       "      <td>0</td>\n",
       "      <td>0</td>\n",
       "      <td>0</td>\n",
       "      <td>0</td>\n",
       "      <td>0</td>\n",
       "      <td>0</td>\n",
       "      <td>0</td>\n",
       "      <td>0</td>\n",
       "      <td>0</td>\n",
       "    </tr>\n",
       "    <tr>\n",
       "      <th>1</th>\n",
       "      <td>256</td>\n",
       "      <td>12</td>\n",
       "      <td>6.80</td>\n",
       "      <td>108</td>\n",
       "      <td>5000</td>\n",
       "      <td>1199.0</td>\n",
       "      <td>0</td>\n",
       "      <td>0</td>\n",
       "      <td>0</td>\n",
       "      <td>0</td>\n",
       "      <td>0</td>\n",
       "      <td>0</td>\n",
       "      <td>0</td>\n",
       "      <td>0</td>\n",
       "      <td>1</td>\n",
       "      <td>0</td>\n",
       "      <td>0</td>\n",
       "    </tr>\n",
       "    <tr>\n",
       "      <th>2</th>\n",
       "      <td>128</td>\n",
       "      <td>8</td>\n",
       "      <td>6.70</td>\n",
       "      <td>48</td>\n",
       "      <td>4500</td>\n",
       "      <td>899.0</td>\n",
       "      <td>0</td>\n",
       "      <td>0</td>\n",
       "      <td>0</td>\n",
       "      <td>0</td>\n",
       "      <td>1</td>\n",
       "      <td>0</td>\n",
       "      <td>0</td>\n",
       "      <td>0</td>\n",
       "      <td>0</td>\n",
       "      <td>0</td>\n",
       "      <td>0</td>\n",
       "    </tr>\n",
       "    <tr>\n",
       "      <th>3</th>\n",
       "      <td>128</td>\n",
       "      <td>6</td>\n",
       "      <td>6.67</td>\n",
       "      <td>64</td>\n",
       "      <td>5020</td>\n",
       "      <td>279.0</td>\n",
       "      <td>0</td>\n",
       "      <td>0</td>\n",
       "      <td>0</td>\n",
       "      <td>0</td>\n",
       "      <td>0</td>\n",
       "      <td>0</td>\n",
       "      <td>0</td>\n",
       "      <td>0</td>\n",
       "      <td>0</td>\n",
       "      <td>0</td>\n",
       "      <td>1</td>\n",
       "    </tr>\n",
       "    <tr>\n",
       "      <th>4</th>\n",
       "      <td>128</td>\n",
       "      <td>8</td>\n",
       "      <td>6.40</td>\n",
       "      <td>50</td>\n",
       "      <td>4614</td>\n",
       "      <td>799.0</td>\n",
       "      <td>0</td>\n",
       "      <td>0</td>\n",
       "      <td>0</td>\n",
       "      <td>0</td>\n",
       "      <td>0</td>\n",
       "      <td>0</td>\n",
       "      <td>1</td>\n",
       "      <td>0</td>\n",
       "      <td>0</td>\n",
       "      <td>0</td>\n",
       "      <td>0</td>\n",
       "    </tr>\n",
       "    <tr>\n",
       "      <th>...</th>\n",
       "      <td>...</td>\n",
       "      <td>...</td>\n",
       "      <td>...</td>\n",
       "      <td>...</td>\n",
       "      <td>...</td>\n",
       "      <td>...</td>\n",
       "      <td>...</td>\n",
       "      <td>...</td>\n",
       "      <td>...</td>\n",
       "      <td>...</td>\n",
       "      <td>...</td>\n",
       "      <td>...</td>\n",
       "      <td>...</td>\n",
       "      <td>...</td>\n",
       "      <td>...</td>\n",
       "      <td>...</td>\n",
       "      <td>...</td>\n",
       "    </tr>\n",
       "    <tr>\n",
       "      <th>402</th>\n",
       "      <td>128</td>\n",
       "      <td>8</td>\n",
       "      <td>6.70</td>\n",
       "      <td>12</td>\n",
       "      <td>4300</td>\n",
       "      <td>1049.0</td>\n",
       "      <td>0</td>\n",
       "      <td>0</td>\n",
       "      <td>0</td>\n",
       "      <td>0</td>\n",
       "      <td>0</td>\n",
       "      <td>0</td>\n",
       "      <td>0</td>\n",
       "      <td>0</td>\n",
       "      <td>1</td>\n",
       "      <td>0</td>\n",
       "      <td>0</td>\n",
       "    </tr>\n",
       "    <tr>\n",
       "      <th>403</th>\n",
       "      <td>128</td>\n",
       "      <td>6</td>\n",
       "      <td>6.57</td>\n",
       "      <td>48</td>\n",
       "      <td>4160</td>\n",
       "      <td>349.0</td>\n",
       "      <td>0</td>\n",
       "      <td>0</td>\n",
       "      <td>0</td>\n",
       "      <td>0</td>\n",
       "      <td>0</td>\n",
       "      <td>0</td>\n",
       "      <td>0</td>\n",
       "      <td>0</td>\n",
       "      <td>0</td>\n",
       "      <td>0</td>\n",
       "      <td>1</td>\n",
       "    </tr>\n",
       "    <tr>\n",
       "      <th>404</th>\n",
       "      <td>128</td>\n",
       "      <td>6</td>\n",
       "      <td>6.70</td>\n",
       "      <td>12</td>\n",
       "      <td>3687</td>\n",
       "      <td>1099.0</td>\n",
       "      <td>1</td>\n",
       "      <td>0</td>\n",
       "      <td>0</td>\n",
       "      <td>0</td>\n",
       "      <td>0</td>\n",
       "      <td>0</td>\n",
       "      <td>0</td>\n",
       "      <td>0</td>\n",
       "      <td>0</td>\n",
       "      <td>0</td>\n",
       "      <td>0</td>\n",
       "    </tr>\n",
       "    <tr>\n",
       "      <th>405</th>\n",
       "      <td>128</td>\n",
       "      <td>8</td>\n",
       "      <td>6.40</td>\n",
       "      <td>48</td>\n",
       "      <td>4025</td>\n",
       "      <td>429.0</td>\n",
       "      <td>0</td>\n",
       "      <td>0</td>\n",
       "      <td>0</td>\n",
       "      <td>0</td>\n",
       "      <td>0</td>\n",
       "      <td>1</td>\n",
       "      <td>0</td>\n",
       "      <td>0</td>\n",
       "      <td>0</td>\n",
       "      <td>0</td>\n",
       "      <td>0</td>\n",
       "    </tr>\n",
       "    <tr>\n",
       "      <th>406</th>\n",
       "      <td>128</td>\n",
       "      <td>6</td>\n",
       "      <td>6.70</td>\n",
       "      <td>48</td>\n",
       "      <td>4500</td>\n",
       "      <td>649.0</td>\n",
       "      <td>0</td>\n",
       "      <td>0</td>\n",
       "      <td>0</td>\n",
       "      <td>0</td>\n",
       "      <td>0</td>\n",
       "      <td>0</td>\n",
       "      <td>0</td>\n",
       "      <td>0</td>\n",
       "      <td>1</td>\n",
       "      <td>0</td>\n",
       "      <td>0</td>\n",
       "    </tr>\n",
       "  </tbody>\n",
       "</table>\n",
       "<p>405 rows × 17 columns</p>\n",
       "</div>"
      ],
      "text/plain": [
       "     Storage_  RAM_  Screen_Size_(inches) Camera_(MP)  Battery_Capacity_(mAh)  \\\n",
       "0         128     6                  6.10         12                     3095   \n",
       "1         256    12                  6.80        108                     5000   \n",
       "2         128     8                  6.70         48                     4500   \n",
       "3         128     6                  6.67         64                     5020   \n",
       "4         128     8                  6.40         50                     4614   \n",
       "..        ...   ...                   ...         ...                     ...   \n",
       "402       128     8                  6.70          12                    4300   \n",
       "403       128     6                  6.57          48                    4160   \n",
       "404       128     6                  6.70          12                    3687   \n",
       "405       128     8                  6.40          48                    4025   \n",
       "406       128     6                  6.70          48                    4500   \n",
       "\n",
       "     Price_($)  Apple  Huawei  Motorola  Nokia  OnePlus  Oppo  Others  Realme  \\\n",
       "0        999.0      1       0         0      0        0     0       0       0   \n",
       "1       1199.0      0       0         0      0        0     0       0       0   \n",
       "2        899.0      0       0         0      0        1     0       0       0   \n",
       "3        279.0      0       0         0      0        0     0       0       0   \n",
       "4        799.0      0       0         0      0        0     0       1       0   \n",
       "..         ...    ...     ...       ...    ...      ...   ...     ...     ...   \n",
       "402     1049.0      0       0         0      0        0     0       0       0   \n",
       "403      349.0      0       0         0      0        0     0       0       0   \n",
       "404     1099.0      1       0         0      0        0     0       0       0   \n",
       "405      429.0      0       0         0      0        0     1       0       0   \n",
       "406      649.0      0       0         0      0        0     0       0       0   \n",
       "\n",
       "     Samsung  Vivo  Xiaomi  \n",
       "0          0     0       0  \n",
       "1          1     0       0  \n",
       "2          0     0       0  \n",
       "3          0     0       1  \n",
       "4          0     0       0  \n",
       "..       ...   ...     ...  \n",
       "402        1     0       0  \n",
       "403        0     0       1  \n",
       "404        0     0       0  \n",
       "405        0     0       0  \n",
       "406        1     0       0  \n",
       "\n",
       "[405 rows x 17 columns]"
      ]
     },
     "execution_count": 22,
     "metadata": {},
     "output_type": "execute_result"
    }
   ],
   "source": [
    "data"
   ]
  },
  {
   "cell_type": "code",
   "execution_count": 23,
   "id": "e0c50783",
   "metadata": {},
   "outputs": [],
   "source": [
    "x = data.drop(columns ='Price_($)',axis =1)\n",
    "y = data['Price_($)']"
   ]
  },
  {
   "cell_type": "code",
   "execution_count": 25,
   "id": "bf561e3e",
   "metadata": {},
   "outputs": [],
   "source": [
    "from sklearn.model_selection import train_test_split\n",
    "x_train,x_test,y_train,y_test = train_test_split(x,y,test_size = 0.2,random_state = 42)"
   ]
  },
  {
   "cell_type": "code",
   "execution_count": 26,
   "id": "2941c6fe",
   "metadata": {},
   "outputs": [
    {
     "data": {
      "text/plain": [
       "(324, 16)"
      ]
     },
     "execution_count": 26,
     "metadata": {},
     "output_type": "execute_result"
    }
   ],
   "source": [
    "x_train.shape"
   ]
  },
  {
   "cell_type": "code",
   "execution_count": 27,
   "id": "7521e120",
   "metadata": {},
   "outputs": [],
   "source": [
    "from sklearn.linear_model import LinearRegression\n",
    "lr_model = LinearRegression()"
   ]
  },
  {
   "cell_type": "code",
   "execution_count": 28,
   "id": "1e9b21b6",
   "metadata": {},
   "outputs": [
    {
     "data": {
      "text/html": [
       "<style>#sk-container-id-1 {color: black;background-color: white;}#sk-container-id-1 pre{padding: 0;}#sk-container-id-1 div.sk-toggleable {background-color: white;}#sk-container-id-1 label.sk-toggleable__label {cursor: pointer;display: block;width: 100%;margin-bottom: 0;padding: 0.3em;box-sizing: border-box;text-align: center;}#sk-container-id-1 label.sk-toggleable__label-arrow:before {content: \"▸\";float: left;margin-right: 0.25em;color: #696969;}#sk-container-id-1 label.sk-toggleable__label-arrow:hover:before {color: black;}#sk-container-id-1 div.sk-estimator:hover label.sk-toggleable__label-arrow:before {color: black;}#sk-container-id-1 div.sk-toggleable__content {max-height: 0;max-width: 0;overflow: hidden;text-align: left;background-color: #f0f8ff;}#sk-container-id-1 div.sk-toggleable__content pre {margin: 0.2em;color: black;border-radius: 0.25em;background-color: #f0f8ff;}#sk-container-id-1 input.sk-toggleable__control:checked~div.sk-toggleable__content {max-height: 200px;max-width: 100%;overflow: auto;}#sk-container-id-1 input.sk-toggleable__control:checked~label.sk-toggleable__label-arrow:before {content: \"▾\";}#sk-container-id-1 div.sk-estimator input.sk-toggleable__control:checked~label.sk-toggleable__label {background-color: #d4ebff;}#sk-container-id-1 div.sk-label input.sk-toggleable__control:checked~label.sk-toggleable__label {background-color: #d4ebff;}#sk-container-id-1 input.sk-hidden--visually {border: 0;clip: rect(1px 1px 1px 1px);clip: rect(1px, 1px, 1px, 1px);height: 1px;margin: -1px;overflow: hidden;padding: 0;position: absolute;width: 1px;}#sk-container-id-1 div.sk-estimator {font-family: monospace;background-color: #f0f8ff;border: 1px dotted black;border-radius: 0.25em;box-sizing: border-box;margin-bottom: 0.5em;}#sk-container-id-1 div.sk-estimator:hover {background-color: #d4ebff;}#sk-container-id-1 div.sk-parallel-item::after {content: \"\";width: 100%;border-bottom: 1px solid gray;flex-grow: 1;}#sk-container-id-1 div.sk-label:hover label.sk-toggleable__label {background-color: #d4ebff;}#sk-container-id-1 div.sk-serial::before {content: \"\";position: absolute;border-left: 1px solid gray;box-sizing: border-box;top: 0;bottom: 0;left: 50%;z-index: 0;}#sk-container-id-1 div.sk-serial {display: flex;flex-direction: column;align-items: center;background-color: white;padding-right: 0.2em;padding-left: 0.2em;position: relative;}#sk-container-id-1 div.sk-item {position: relative;z-index: 1;}#sk-container-id-1 div.sk-parallel {display: flex;align-items: stretch;justify-content: center;background-color: white;position: relative;}#sk-container-id-1 div.sk-item::before, #sk-container-id-1 div.sk-parallel-item::before {content: \"\";position: absolute;border-left: 1px solid gray;box-sizing: border-box;top: 0;bottom: 0;left: 50%;z-index: -1;}#sk-container-id-1 div.sk-parallel-item {display: flex;flex-direction: column;z-index: 1;position: relative;background-color: white;}#sk-container-id-1 div.sk-parallel-item:first-child::after {align-self: flex-end;width: 50%;}#sk-container-id-1 div.sk-parallel-item:last-child::after {align-self: flex-start;width: 50%;}#sk-container-id-1 div.sk-parallel-item:only-child::after {width: 0;}#sk-container-id-1 div.sk-dashed-wrapped {border: 1px dashed gray;margin: 0 0.4em 0.5em 0.4em;box-sizing: border-box;padding-bottom: 0.4em;background-color: white;}#sk-container-id-1 div.sk-label label {font-family: monospace;font-weight: bold;display: inline-block;line-height: 1.2em;}#sk-container-id-1 div.sk-label-container {text-align: center;}#sk-container-id-1 div.sk-container {/* jupyter's `normalize.less` sets `[hidden] { display: none; }` but bootstrap.min.css set `[hidden] { display: none !important; }` so we also need the `!important` here to be able to override the default hidden behavior on the sphinx rendered scikit-learn.org. See: https://github.com/scikit-learn/scikit-learn/issues/21755 */display: inline-block !important;position: relative;}#sk-container-id-1 div.sk-text-repr-fallback {display: none;}</style><div id=\"sk-container-id-1\" class=\"sk-top-container\"><div class=\"sk-text-repr-fallback\"><pre>LinearRegression()</pre><b>In a Jupyter environment, please rerun this cell to show the HTML representation or trust the notebook. <br />On GitHub, the HTML representation is unable to render, please try loading this page with nbviewer.org.</b></div><div class=\"sk-container\" hidden><div class=\"sk-item\"><div class=\"sk-estimator sk-toggleable\"><input class=\"sk-toggleable__control sk-hidden--visually\" id=\"sk-estimator-id-1\" type=\"checkbox\" checked><label for=\"sk-estimator-id-1\" class=\"sk-toggleable__label sk-toggleable__label-arrow\">LinearRegression</label><div class=\"sk-toggleable__content\"><pre>LinearRegression()</pre></div></div></div></div></div>"
      ],
      "text/plain": [
       "LinearRegression()"
      ]
     },
     "execution_count": 28,
     "metadata": {},
     "output_type": "execute_result"
    }
   ],
   "source": [
    "lr_model.fit(x_train,y_train)"
   ]
  },
  {
   "cell_type": "code",
   "execution_count": 29,
   "id": "ecf4f26f",
   "metadata": {},
   "outputs": [
    {
     "data": {
      "text/plain": [
       "0.8589461998547663"
      ]
     },
     "execution_count": 29,
     "metadata": {},
     "output_type": "execute_result"
    }
   ],
   "source": [
    "lr_model.score(x_test,y_test)"
   ]
  },
  {
   "cell_type": "code",
   "execution_count": 30,
   "id": "1b9f9597",
   "metadata": {},
   "outputs": [],
   "source": [
    "from sklearn.tree import DecisionTreeRegressor\n",
    "dt_model = DecisionTreeRegressor()"
   ]
  },
  {
   "cell_type": "code",
   "execution_count": 31,
   "id": "01737a5e",
   "metadata": {},
   "outputs": [
    {
     "data": {
      "text/html": [
       "<style>#sk-container-id-2 {color: black;background-color: white;}#sk-container-id-2 pre{padding: 0;}#sk-container-id-2 div.sk-toggleable {background-color: white;}#sk-container-id-2 label.sk-toggleable__label {cursor: pointer;display: block;width: 100%;margin-bottom: 0;padding: 0.3em;box-sizing: border-box;text-align: center;}#sk-container-id-2 label.sk-toggleable__label-arrow:before {content: \"▸\";float: left;margin-right: 0.25em;color: #696969;}#sk-container-id-2 label.sk-toggleable__label-arrow:hover:before {color: black;}#sk-container-id-2 div.sk-estimator:hover label.sk-toggleable__label-arrow:before {color: black;}#sk-container-id-2 div.sk-toggleable__content {max-height: 0;max-width: 0;overflow: hidden;text-align: left;background-color: #f0f8ff;}#sk-container-id-2 div.sk-toggleable__content pre {margin: 0.2em;color: black;border-radius: 0.25em;background-color: #f0f8ff;}#sk-container-id-2 input.sk-toggleable__control:checked~div.sk-toggleable__content {max-height: 200px;max-width: 100%;overflow: auto;}#sk-container-id-2 input.sk-toggleable__control:checked~label.sk-toggleable__label-arrow:before {content: \"▾\";}#sk-container-id-2 div.sk-estimator input.sk-toggleable__control:checked~label.sk-toggleable__label {background-color: #d4ebff;}#sk-container-id-2 div.sk-label input.sk-toggleable__control:checked~label.sk-toggleable__label {background-color: #d4ebff;}#sk-container-id-2 input.sk-hidden--visually {border: 0;clip: rect(1px 1px 1px 1px);clip: rect(1px, 1px, 1px, 1px);height: 1px;margin: -1px;overflow: hidden;padding: 0;position: absolute;width: 1px;}#sk-container-id-2 div.sk-estimator {font-family: monospace;background-color: #f0f8ff;border: 1px dotted black;border-radius: 0.25em;box-sizing: border-box;margin-bottom: 0.5em;}#sk-container-id-2 div.sk-estimator:hover {background-color: #d4ebff;}#sk-container-id-2 div.sk-parallel-item::after {content: \"\";width: 100%;border-bottom: 1px solid gray;flex-grow: 1;}#sk-container-id-2 div.sk-label:hover label.sk-toggleable__label {background-color: #d4ebff;}#sk-container-id-2 div.sk-serial::before {content: \"\";position: absolute;border-left: 1px solid gray;box-sizing: border-box;top: 0;bottom: 0;left: 50%;z-index: 0;}#sk-container-id-2 div.sk-serial {display: flex;flex-direction: column;align-items: center;background-color: white;padding-right: 0.2em;padding-left: 0.2em;position: relative;}#sk-container-id-2 div.sk-item {position: relative;z-index: 1;}#sk-container-id-2 div.sk-parallel {display: flex;align-items: stretch;justify-content: center;background-color: white;position: relative;}#sk-container-id-2 div.sk-item::before, #sk-container-id-2 div.sk-parallel-item::before {content: \"\";position: absolute;border-left: 1px solid gray;box-sizing: border-box;top: 0;bottom: 0;left: 50%;z-index: -1;}#sk-container-id-2 div.sk-parallel-item {display: flex;flex-direction: column;z-index: 1;position: relative;background-color: white;}#sk-container-id-2 div.sk-parallel-item:first-child::after {align-self: flex-end;width: 50%;}#sk-container-id-2 div.sk-parallel-item:last-child::after {align-self: flex-start;width: 50%;}#sk-container-id-2 div.sk-parallel-item:only-child::after {width: 0;}#sk-container-id-2 div.sk-dashed-wrapped {border: 1px dashed gray;margin: 0 0.4em 0.5em 0.4em;box-sizing: border-box;padding-bottom: 0.4em;background-color: white;}#sk-container-id-2 div.sk-label label {font-family: monospace;font-weight: bold;display: inline-block;line-height: 1.2em;}#sk-container-id-2 div.sk-label-container {text-align: center;}#sk-container-id-2 div.sk-container {/* jupyter's `normalize.less` sets `[hidden] { display: none; }` but bootstrap.min.css set `[hidden] { display: none !important; }` so we also need the `!important` here to be able to override the default hidden behavior on the sphinx rendered scikit-learn.org. See: https://github.com/scikit-learn/scikit-learn/issues/21755 */display: inline-block !important;position: relative;}#sk-container-id-2 div.sk-text-repr-fallback {display: none;}</style><div id=\"sk-container-id-2\" class=\"sk-top-container\"><div class=\"sk-text-repr-fallback\"><pre>DecisionTreeRegressor()</pre><b>In a Jupyter environment, please rerun this cell to show the HTML representation or trust the notebook. <br />On GitHub, the HTML representation is unable to render, please try loading this page with nbviewer.org.</b></div><div class=\"sk-container\" hidden><div class=\"sk-item\"><div class=\"sk-estimator sk-toggleable\"><input class=\"sk-toggleable__control sk-hidden--visually\" id=\"sk-estimator-id-2\" type=\"checkbox\" checked><label for=\"sk-estimator-id-2\" class=\"sk-toggleable__label sk-toggleable__label-arrow\">DecisionTreeRegressor</label><div class=\"sk-toggleable__content\"><pre>DecisionTreeRegressor()</pre></div></div></div></div></div>"
      ],
      "text/plain": [
       "DecisionTreeRegressor()"
      ]
     },
     "execution_count": 31,
     "metadata": {},
     "output_type": "execute_result"
    }
   ],
   "source": [
    "dt_model.fit(x_train,y_train)"
   ]
  },
  {
   "cell_type": "code",
   "execution_count": 32,
   "id": "784e271a",
   "metadata": {},
   "outputs": [
    {
     "data": {
      "text/plain": [
       "0.8594530522185374"
      ]
     },
     "execution_count": 32,
     "metadata": {},
     "output_type": "execute_result"
    }
   ],
   "source": [
    "dt_model.score(x_test,y_test)"
   ]
  },
  {
   "cell_type": "code",
   "execution_count": 33,
   "id": "5f7ea18e",
   "metadata": {},
   "outputs": [],
   "source": [
    "from sklearn.ensemble import RandomForestRegressor\n",
    "rf_model = RandomForestRegressor()"
   ]
  },
  {
   "cell_type": "code",
   "execution_count": 34,
   "id": "b9e7cf46",
   "metadata": {},
   "outputs": [
    {
     "data": {
      "text/html": [
       "<style>#sk-container-id-3 {color: black;background-color: white;}#sk-container-id-3 pre{padding: 0;}#sk-container-id-3 div.sk-toggleable {background-color: white;}#sk-container-id-3 label.sk-toggleable__label {cursor: pointer;display: block;width: 100%;margin-bottom: 0;padding: 0.3em;box-sizing: border-box;text-align: center;}#sk-container-id-3 label.sk-toggleable__label-arrow:before {content: \"▸\";float: left;margin-right: 0.25em;color: #696969;}#sk-container-id-3 label.sk-toggleable__label-arrow:hover:before {color: black;}#sk-container-id-3 div.sk-estimator:hover label.sk-toggleable__label-arrow:before {color: black;}#sk-container-id-3 div.sk-toggleable__content {max-height: 0;max-width: 0;overflow: hidden;text-align: left;background-color: #f0f8ff;}#sk-container-id-3 div.sk-toggleable__content pre {margin: 0.2em;color: black;border-radius: 0.25em;background-color: #f0f8ff;}#sk-container-id-3 input.sk-toggleable__control:checked~div.sk-toggleable__content {max-height: 200px;max-width: 100%;overflow: auto;}#sk-container-id-3 input.sk-toggleable__control:checked~label.sk-toggleable__label-arrow:before {content: \"▾\";}#sk-container-id-3 div.sk-estimator input.sk-toggleable__control:checked~label.sk-toggleable__label {background-color: #d4ebff;}#sk-container-id-3 div.sk-label input.sk-toggleable__control:checked~label.sk-toggleable__label {background-color: #d4ebff;}#sk-container-id-3 input.sk-hidden--visually {border: 0;clip: rect(1px 1px 1px 1px);clip: rect(1px, 1px, 1px, 1px);height: 1px;margin: -1px;overflow: hidden;padding: 0;position: absolute;width: 1px;}#sk-container-id-3 div.sk-estimator {font-family: monospace;background-color: #f0f8ff;border: 1px dotted black;border-radius: 0.25em;box-sizing: border-box;margin-bottom: 0.5em;}#sk-container-id-3 div.sk-estimator:hover {background-color: #d4ebff;}#sk-container-id-3 div.sk-parallel-item::after {content: \"\";width: 100%;border-bottom: 1px solid gray;flex-grow: 1;}#sk-container-id-3 div.sk-label:hover label.sk-toggleable__label {background-color: #d4ebff;}#sk-container-id-3 div.sk-serial::before {content: \"\";position: absolute;border-left: 1px solid gray;box-sizing: border-box;top: 0;bottom: 0;left: 50%;z-index: 0;}#sk-container-id-3 div.sk-serial {display: flex;flex-direction: column;align-items: center;background-color: white;padding-right: 0.2em;padding-left: 0.2em;position: relative;}#sk-container-id-3 div.sk-item {position: relative;z-index: 1;}#sk-container-id-3 div.sk-parallel {display: flex;align-items: stretch;justify-content: center;background-color: white;position: relative;}#sk-container-id-3 div.sk-item::before, #sk-container-id-3 div.sk-parallel-item::before {content: \"\";position: absolute;border-left: 1px solid gray;box-sizing: border-box;top: 0;bottom: 0;left: 50%;z-index: -1;}#sk-container-id-3 div.sk-parallel-item {display: flex;flex-direction: column;z-index: 1;position: relative;background-color: white;}#sk-container-id-3 div.sk-parallel-item:first-child::after {align-self: flex-end;width: 50%;}#sk-container-id-3 div.sk-parallel-item:last-child::after {align-self: flex-start;width: 50%;}#sk-container-id-3 div.sk-parallel-item:only-child::after {width: 0;}#sk-container-id-3 div.sk-dashed-wrapped {border: 1px dashed gray;margin: 0 0.4em 0.5em 0.4em;box-sizing: border-box;padding-bottom: 0.4em;background-color: white;}#sk-container-id-3 div.sk-label label {font-family: monospace;font-weight: bold;display: inline-block;line-height: 1.2em;}#sk-container-id-3 div.sk-label-container {text-align: center;}#sk-container-id-3 div.sk-container {/* jupyter's `normalize.less` sets `[hidden] { display: none; }` but bootstrap.min.css set `[hidden] { display: none !important; }` so we also need the `!important` here to be able to override the default hidden behavior on the sphinx rendered scikit-learn.org. See: https://github.com/scikit-learn/scikit-learn/issues/21755 */display: inline-block !important;position: relative;}#sk-container-id-3 div.sk-text-repr-fallback {display: none;}</style><div id=\"sk-container-id-3\" class=\"sk-top-container\"><div class=\"sk-text-repr-fallback\"><pre>RandomForestRegressor()</pre><b>In a Jupyter environment, please rerun this cell to show the HTML representation or trust the notebook. <br />On GitHub, the HTML representation is unable to render, please try loading this page with nbviewer.org.</b></div><div class=\"sk-container\" hidden><div class=\"sk-item\"><div class=\"sk-estimator sk-toggleable\"><input class=\"sk-toggleable__control sk-hidden--visually\" id=\"sk-estimator-id-3\" type=\"checkbox\" checked><label for=\"sk-estimator-id-3\" class=\"sk-toggleable__label sk-toggleable__label-arrow\">RandomForestRegressor</label><div class=\"sk-toggleable__content\"><pre>RandomForestRegressor()</pre></div></div></div></div></div>"
      ],
      "text/plain": [
       "RandomForestRegressor()"
      ]
     },
     "execution_count": 34,
     "metadata": {},
     "output_type": "execute_result"
    }
   ],
   "source": [
    "rf_model.fit(x_train,y_train)"
   ]
  },
  {
   "cell_type": "code",
   "execution_count": 35,
   "id": "91e9cf4f",
   "metadata": {},
   "outputs": [
    {
     "data": {
      "text/plain": [
       "0.8720319956062241"
      ]
     },
     "execution_count": 35,
     "metadata": {},
     "output_type": "execute_result"
    }
   ],
   "source": [
    "rf_model.score(x_test,y_test)"
   ]
  }
 ],
 "metadata": {
  "kernelspec": {
   "display_name": "Python 3 (ipykernel)",
   "language": "python",
   "name": "python3"
  },
  "language_info": {
   "codemirror_mode": {
    "name": "ipython",
    "version": 3
   },
   "file_extension": ".py",
   "mimetype": "text/x-python",
   "name": "python",
   "nbconvert_exporter": "python",
   "pygments_lexer": "ipython3",
   "version": "3.10.9"
  }
 },
 "nbformat": 4,
 "nbformat_minor": 5
}
